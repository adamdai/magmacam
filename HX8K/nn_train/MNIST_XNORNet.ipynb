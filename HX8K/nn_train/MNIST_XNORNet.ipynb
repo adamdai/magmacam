{
 "cells": [
  {
   "cell_type": "markdown",
   "metadata": {},
   "source": [
    "# Train a binary XNORNet for deploying in FPGA\n",
    "This tutorial will help you go through the procedures of training a one-layer XNorNet as a perceptron on mnist dataset, and how to deploy trained weights and images into magma.\n",
    "This tutorial has borrowed some codes from https://github.com/BenBBear/MNIST-XNORNet."
   ]
  },
  {
   "cell_type": "code",
   "execution_count": 1,
   "metadata": {},
   "outputs": [
    {
     "name": "stdout",
     "output_type": "stream",
     "text": [
      "WARNING:tensorflow:From /home/adam/magmacam/HX8K/nn_train/mnist.py:232: maybe_download (from tensorflow.contrib.learn.python.learn.datasets.base) is deprecated and will be removed in a future version.\n",
      "Instructions for updating:\n",
      "Please write your own downloading logic.\n",
      "Extracting MNIST_data/train-images-idx3-ubyte.gz\n",
      "Extracting MNIST_data/train-labels-idx1-ubyte.gz\n",
      "Extracting MNIST_data/t10k-images-idx3-ubyte.gz\n",
      "Extracting MNIST_data/t10k-labels-idx1-ubyte.gz\n"
     ]
    }
   ],
   "source": [
    "import numpy as np\n",
    "import tensorflow as tf\n",
    "from tensorflow.python.framework import ops\n",
    "from tf_func import *\n",
    "from mnist import read_data_sets\n",
    "mnist = read_data_sets('MNIST_data')"
   ]
  },
  {
   "cell_type": "markdown",
   "metadata": {
    "collapsed": true
   },
   "source": [
    "## Training\n",
    "Here we train a xnor network following description(https://arxiv.org/abs/1603.05279). Considering the limit amount of resources on ice40, we resize the image from 28x28 to 16x16. We use only one fully-connected layer to conduct classification. Feel free to add conv layers if you have a larger resource."
   ]
  },
  {
   "cell_type": "code",
   "execution_count": 2,
   "metadata": {},
   "outputs": [
    {
     "name": "stdout",
     "output_type": "stream",
     "text": [
      "WARNING:tensorflow:From <ipython-input-2-8d0039931ffa>:19: softmax_cross_entropy_with_logits (from tensorflow.python.ops.nn_ops) is deprecated and will be removed in a future version.\n",
      "Instructions for updating:\n",
      "\n",
      "Future major versions of TensorFlow will allow gradients to flow\n",
      "into the labels input on backprop by default.\n",
      "\n",
      "See @{tf.nn.softmax_cross_entropy_with_logits_v2}.\n",
      "\n",
      "Tensor(\"Variable/read:0\", shape=(1, 1, 256, 10), dtype=float32)\n",
      "test accuracy 0.0824\n",
      "step 0,r training accuracy 0.14\n",
      "step 100,r training accuracy 0.24\n",
      "step 200,r training accuracy 0.14\n",
      "step 300,r training accuracy 0.26\n",
      "step 400,r training accuracy 0.36\n",
      "step 500,r training accuracy 0.44\n",
      "step 600,r training accuracy 0.38\n",
      "step 700,r training accuracy 0.54\n",
      "step 800,r training accuracy 0.44\n",
      "step 900,r training accuracy 0.5\n",
      "test accuracy 0.4929\n",
      "step 1000,r training accuracy 0.48\n",
      "step 1100,r training accuracy 0.52\n",
      "step 1200,r training accuracy 0.48\n",
      "step 1300,r training accuracy 0.62\n",
      "step 1400,r training accuracy 0.66\n",
      "step 1500,r training accuracy 0.46\n",
      "step 1600,r training accuracy 0.48\n",
      "step 1700,r training accuracy 0.56\n",
      "step 1800,r training accuracy 0.48\n",
      "step 1900,r training accuracy 0.56\n",
      "test accuracy 0.5989\n",
      "step 2000,r training accuracy 0.42\n",
      "step 2100,r training accuracy 0.48\n",
      "step 2200,r training accuracy 0.64\n",
      "step 2300,r training accuracy 0.58\n",
      "step 2400,r training accuracy 0.66\n",
      "step 2500,r training accuracy 0.64\n",
      "step 2600,r training accuracy 0.54\n",
      "step 2700,r training accuracy 0.68\n",
      "step 2800,r training accuracy 0.6\n",
      "step 2900,r training accuracy 0.7\n",
      "test accuracy 0.6719\n",
      "step 3000,r training accuracy 0.68\n",
      "step 3100,r training accuracy 0.66\n",
      "step 3200,r training accuracy 0.5\n",
      "step 3300,r training accuracy 0.62\n",
      "step 3400,r training accuracy 0.74\n",
      "step 3500,r training accuracy 0.72\n",
      "step 3600,r training accuracy 0.64\n",
      "step 3700,r training accuracy 0.7\n",
      "step 3800,r training accuracy 0.68\n",
      "step 3900,r training accuracy 0.68\n",
      "test accuracy 0.6935\n",
      "step 4000,r training accuracy 0.72\n",
      "step 4100,r training accuracy 0.58\n",
      "step 4200,r training accuracy 0.54\n",
      "step 4300,r training accuracy 0.8\n",
      "step 4400,r training accuracy 0.74\n",
      "step 4500,r training accuracy 0.66\n",
      "step 4600,r training accuracy 0.66\n",
      "step 4700,r training accuracy 0.68\n",
      "step 4800,r training accuracy 0.7\n",
      "step 4900,r training accuracy 0.78\n",
      "test accuracy 0.6971\n",
      "step 5000,r training accuracy 0.64\n",
      "step 5100,r training accuracy 0.72\n",
      "step 5200,r training accuracy 0.78\n",
      "step 5300,r training accuracy 0.72\n",
      "step 5400,r training accuracy 0.64\n",
      "step 5500,r training accuracy 0.74\n",
      "step 5600,r training accuracy 0.74\n",
      "step 5700,r training accuracy 0.7\n",
      "step 5800,r training accuracy 0.62\n",
      "step 5900,r training accuracy 0.76\n",
      "test accuracy 0.7141\n",
      "step 6000,r training accuracy 0.66\n",
      "step 6100,r training accuracy 0.58\n",
      "step 6200,r training accuracy 0.6\n",
      "step 6300,r training accuracy 0.76\n",
      "step 6400,r training accuracy 0.66\n",
      "step 6500,r training accuracy 0.64\n",
      "step 6600,r training accuracy 0.7\n",
      "step 6700,r training accuracy 0.66\n",
      "step 6800,r training accuracy 0.68\n",
      "step 6900,r training accuracy 0.76\n",
      "test accuracy 0.7039\n",
      "step 7000,r training accuracy 0.8\n",
      "step 7100,r training accuracy 0.68\n",
      "step 7200,r training accuracy 0.86\n",
      "step 7300,r training accuracy 0.7\n",
      "step 7400,r training accuracy 0.76\n",
      "step 7500,r training accuracy 0.8\n",
      "step 7600,r training accuracy 0.76\n",
      "step 7700,r training accuracy 0.74\n",
      "step 7800,r training accuracy 0.74\n",
      "step 7900,r training accuracy 0.76\n",
      "test accuracy 0.7119\n",
      "step 8000,r training accuracy 0.66\n",
      "step 8100,r training accuracy 0.72\n",
      "step 8200,r training accuracy 0.78\n",
      "step 8300,r training accuracy 0.6\n",
      "step 8400,r training accuracy 0.74\n",
      "step 8500,r training accuracy 0.76\n",
      "step 8600,r training accuracy 0.8\n",
      "step 8700,r training accuracy 0.78\n",
      "step 8800,r training accuracy 0.62\n",
      "step 8900,r training accuracy 0.88\n",
      "test accuracy 0.7304\n",
      "step 9000,r training accuracy 0.68\n",
      "step 9100,r training accuracy 0.72\n",
      "step 9200,r training accuracy 0.72\n",
      "step 9300,r training accuracy 0.72\n",
      "step 9400,r training accuracy 0.62\n",
      "step 9500,r training accuracy 0.56\n",
      "step 9600,r training accuracy 0.76\n",
      "step 9700,r training accuracy 0.76\n",
      "step 9800,r training accuracy 0.7\n",
      "step 9900,r training accuracy 0.74\n"
     ]
    }
   ],
   "source": [
    "# Build Computational Graph\n",
    "sess = tf.InteractiveSession()\n",
    "\n",
    "# Initialize placeholders for data & labels\n",
    "x = tf.placeholder(tf.float32, shape=[None, 256])\n",
    "y_ = tf.placeholder(tf.float32, shape=[None, 10])\n",
    "keep_prob = tf.placeholder(tf.float32)\n",
    "\n",
    "# reshape to make image volumes\n",
    "x_image = tf.reshape(x, [-1,1,1,256])\n",
    "x_image_drop = tf.nn.dropout(x_image, keep_prob)\n",
    "\n",
    "W_fc = weight_variable([1, 1, 256, 10])\n",
    "BW_fc = binarize_weights(W_fc)\n",
    "\n",
    "y_conv = tf.reshape(conv2d(x_image, BW_fc), [-1, 10])\n",
    "\n",
    "# create train ops\n",
    "cross_entropy = tf.reduce_mean(tf.nn.softmax_cross_entropy_with_logits(labels=y_, logits=y_conv))\n",
    "train_step = tf.train.AdamOptimizer(1e-4).minimize(cross_entropy)\n",
    "correct_prediction = tf.equal(tf.argmax(y_conv,1), tf.argmax(y_,1))\n",
    "accuracy = tf.reduce_mean(tf.cast(correct_prediction, tf.float32))\n",
    "\n",
    "# initialize all variables\n",
    "sess.run(tf.global_variables_initializer())\n",
    "\n",
    "# train loop\n",
    "for i in range(10000):\n",
    "    batch = mnist.train.next_batch(50)\n",
    "    if i % 1000 == 0:\n",
    "        print(\"test accuracy %g\"%accuracy.eval(feed_dict={\n",
    "            x: mnist.test.images, y_: mnist.test.labels, keep_prob: 1.0}))\n",
    "    if i % 100 == 0:\n",
    "        train_accuracy = accuracy.eval(feed_dict={\n",
    "            x:batch[0], y_: batch[1], keep_prob: 1.0})\n",
    "        print(\"step %d,r training accuracy %g\"%(i, train_accuracy))\n",
    "    train_step.run(feed_dict={x: batch[0], y_: batch[1], keep_prob: 0.5})\n",
    "    "
   ]
  },
  {
   "cell_type": "markdown",
   "metadata": {
    "collapsed": true
   },
   "source": [
    "# Save Weights\n",
    "Here we save the weights, and prepare 10 mnist samples, whose labels ranging from 0 to 9 to a pickle file, which could be used later to initiate ROM in FPGA."
   ]
  },
  {
   "cell_type": "code",
   "execution_count": 3,
   "metadata": {},
   "outputs": [],
   "source": [
    "import pickle\n",
    "# trained binary weights\n",
    "res = BW_fc.eval()\n",
    "alpha = np.abs(res).sum(0).sum(0).sum(0) / res[:,:,:,0].size\n",
    "BW = np.sign(res)\n",
    "BW = np.squeeze(BW, axis=(0, 1))\n",
    "BW = BW.T\n",
    "BW[BW==-1] = 0\n",
    "\n",
    "# mnist samples ranging from label 0 to 9\n",
    "imgs = [mnist.test.images[3], mnist.test.images[2], mnist.test.images[208], mnist.test.images[811], mnist.test.images[1140], \n",
    "       mnist.test.images[102], mnist.test.images[814], mnist.test.images[223],mnist.test.images[128], mnist.test.images[214]]\n",
    "imgs = np.vstack(imgs)\n",
    "imgs[imgs==-1]=0\n",
    "\n",
    "weights_int16 = np.zeros((10, 16), dtype=np.uint16)\n",
    "for index in range(10):\n",
    "    for i in range(16):\n",
    "        for j in range(15):\n",
    "            weights_int16[index, i] += BW[index, 16 * i + j]\n",
    "            weights_int16[index, i] = np.left_shift(weights_int16[index, i], 1)\n",
    "        weights_int16[index, i] += BW[index, 16 * i + 15]\n",
    "\n",
    "imgs_int16 = np.zeros((10, 16), dtype=np.uint16)\n",
    "for index in range(10):\n",
    "    for i in range(16):\n",
    "        for j in range(15):\n",
    "            imgs_int16[index, 15-i] += imgs[index, 16 * (15 - j) + i]\n",
    "            imgs_int16[index, 15-i] = np.left_shift(imgs_int16[index, 15-i], 1)\n",
    "        imgs_int16[index, 15-i] += imgs[index, 16 * 0 + i]\n",
    "        \n",
    "pickle.dump({'imgs':imgs, 'weights': BW, 'alpha':alpha, \n",
    "             'imgs_int16':imgs_int16, 'weights_int16':weights_int16}, open( \"BNN.pkl\", \"wb\" ))\n"
   ]
  },
  {
   "cell_type": "markdown",
   "metadata": {},
   "source": [
    "## Simulate on CPU\n",
    "The following code simulates the computation on FPGA on CPU."
   ]
  },
  {
   "cell_type": "code",
   "execution_count": 4,
   "metadata": {},
   "outputs": [],
   "source": [
    "import matplotlib.pyplot as plt\n",
    "%matplotlib inline\n",
    "def dis_img(imgs, index):\n",
    "    img = imgs[index, :]\n",
    "    img = np.reshape(img, [16, 16])\n",
    "    plt.imshow(img, cmap='gray')\n",
    "    plt.show()"
   ]
  },
  {
   "cell_type": "code",
   "execution_count": 5,
   "metadata": {},
   "outputs": [
    {
     "name": "stdout",
     "output_type": "stream",
     "text": [
      "[157, 134, 134, 134, 136, 149, 146, 132, 135, 138]\n",
      "[138, 171, 149, 147, 151, 160, 143, 153, 148, 147]\n",
      "[139, 148, 164, 134, 140, 147, 146, 140, 143, 136]\n",
      "[143, 152, 146, 154, 138, 153, 134, 144, 147, 140]\n",
      "[140, 157, 139, 149, 157, 164, 147, 157, 146, 155]\n",
      "[139, 146, 136, 146, 142, 161, 128, 150, 151, 146]\n",
      "[134, 157, 145, 141, 147, 154, 157, 147, 146, 149]\n",
      "[137, 156, 140, 140, 144, 155, 140, 164, 143, 150]\n",
      "[129, 140, 132, 140, 138, 153, 124, 142, 159, 144]\n",
      "[139, 152, 130, 146, 146, 155, 136, 148, 145, 156]\n"
     ]
    },
    {
     "data": {
      "image/png": "[encoded data removed]",
      "text/plain": [
       "<Figure size 432x288 with 10 Axes>"
      ]
     },
     "metadata": {},
     "output_type": "display_data"
    }
   ],
   "source": [
    "for img_index in range(10):\n",
    "    res = []\n",
    "    for i in range(10):\n",
    "        kk = np.logical_not(np.logical_xor(imgs[img_index, :], BW[i, :].T))\n",
    "        pop_count = np.sum(kk)\n",
    "        res.append(pop_count)\n",
    "    plt.subplot(2, 5, img_index + 1)\n",
    "    img = np.reshape(imgs[img_index, :], [16, 16])\n",
    "    plt.imshow(img, cmap='gray')\n",
    "    plt.axis('off')\n",
    "    plt.title(\"Pred: \" + str(np.argmax(res, axis=0)))\n",
    "    print(res)\n",
    "plt.show()"
   ]
  },
  {
   "cell_type": "code",
   "execution_count": null,
   "metadata": {},
   "outputs": [],
   "source": []
  }
 ],
 "metadata": {
  "kernelspec": {
   "display_name": "Python 3",
   "language": "python",
   "name": "python3"
  },
  "language_info": {
   "codemirror_mode": {
    "name": "ipython",
    "version": 3
   },
   "file_extension": ".py",
   "mimetype": "text/x-python",
   "name": "python",
   "nbconvert_exporter": "python",
   "pygments_lexer": "ipython3",
   "version": "3.6.5"
  }
 },
 "nbformat": 4,
 "nbformat_minor": 2
}
